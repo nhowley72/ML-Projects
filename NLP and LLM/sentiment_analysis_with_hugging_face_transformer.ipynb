{
 "cells": [
  {
   "cell_type": "code",
   "execution_count": 51,
   "metadata": {},
   "outputs": [],
   "source": [
    "# import the hugging face library\n",
    "from transformers import pipeline\n",
    "import numpy as np"
   ]
  },
  {
   "cell_type": "markdown",
   "metadata": {},
   "source": [
    "#### Using Transformers pipeline to conduct Sentiment Analysis of Text"
   ]
  },
  {
   "cell_type": "code",
   "execution_count": 52,
   "metadata": {},
   "outputs": [
    {
     "name": "stderr",
     "output_type": "stream",
     "text": [
      "No model was supplied, defaulted to distilbert/distilbert-base-uncased-finetuned-sst-2-english and revision 714eb0f (https://huggingface.co/distilbert/distilbert-base-uncased-finetuned-sst-2-english).\n",
      "Using a pipeline without specifying a model name and revision in production is not recommended.\n",
      "Device set to use mps:0\n"
     ]
    },
    {
     "name": "stdout",
     "output_type": "stream",
     "text": [
      "[{'label': 'POSITIVE', 'score': 0.9998341798782349}]\n"
     ]
    }
   ],
   "source": [
    "# Load the sentiment analysis pipeline\n",
    "sentiment_analyzer = pipeline(\"sentiment-analysis\")\n",
    "\n",
    "# Function to analyze sentiment\n",
    "def analyze_sentiment(text):\n",
    "    result = sentiment_analyzer(text)\n",
    "    return result\n",
    "\n",
    "# Test the function with some example text\n",
    "test_text = \"I love using the Hugging Face library, it's really powerful and easy to use!\"\n",
    "sentiment_result = analyze_sentiment(test_text)\n",
    "print(sentiment_result)\n"
   ]
  },
  {
   "cell_type": "markdown",
   "metadata": {},
   "source": [
    "That was easy!\n",
    "\n",
    "How about we apply it to some useful stuff... Finance LOL!"
   ]
  },
  {
   "cell_type": "code",
   "execution_count": 62,
   "metadata": {},
   "outputs": [],
   "source": [
    "import yfinance as yf "
   ]
  },
  {
   "cell_type": "code",
   "execution_count": null,
   "metadata": {},
   "outputs": [
    {
     "name": "stdout",
     "output_type": "stream",
     "text": [
      "Available keys in the first article: dict_keys(['id', 'content']) \n",
      "\n",
      "News articles for AAPL:\n",
      "How to switch off Apple Intelligence on your iPhone, iPad, and Mac\n",
      "As tech sell-off eases, what does it mean for Big Tech's AI spend?\n",
      "Winners and losers in Monday's DeepSeek shake-up\n",
      "Magnificent Seven Stocks: Nvidia, Apple Surge; Tesla Slides To Key Level\n",
      "Why AAPL Is Climbing Today\n",
      "Dow Jones Stocks: Nvidia Rebounds, Apple Rallies To Key Level; Amazon Hits New High\n",
      "Apple Shares Jumps 4% on Bullish Analyst Target and AI Innovation Prospects\n",
      "China’s DeepSeek suffers cyberattack\n",
      "Apple Earnings: Should Investors Take a Bite?\n",
      "The Zacks Analyst Blog Highlights Apple, Dell Technologies, HP and Microsoft\n"
     ]
    }
   ],
   "source": [
    "# Get the latest news headlines for the specified ticker\n",
    "ticker = 'AAPL'\n",
    "ticker_obj = yf.Ticker(ticker)\n",
    "news = ticker_obj.news\n",
    "\n",
    "# Print the available keys in the first article to identify the correct key\n",
    "if news:\n",
    "    print(\"Available keys in the first article:\", news[0].keys(), \"\\n\")\n",
    "\n",
    "# Print the news headlines using the correct key\n",
    "print(f'News articles for {ticker}:')\n",
    "for article in news:\n",
    "    print(article['content']['title'])  "
   ]
  },
  {
   "cell_type": "code",
   "execution_count": 63,
   "metadata": {},
   "outputs": [
    {
     "name": "stdout",
     "output_type": "stream",
     "text": [
      "How to switch off Apple Intelligence on your iPhone, iPad, and Mac [{'label': 'NEGATIVE', 'score': 0.9891536831855774}]\n",
      "As tech sell-off eases, what does it mean for Big Tech's AI spend? [{'label': 'NEGATIVE', 'score': 0.9983237385749817}]\n",
      "Winners and losers in Monday's DeepSeek shake-up [{'label': 'NEGATIVE', 'score': 0.822174608707428}]\n",
      "Magnificent Seven Stocks: Nvidia, Apple Surge; Tesla Slides To Key Level [{'label': 'POSITIVE', 'score': 0.9993183612823486}]\n",
      "Why AAPL Is Climbing Today [{'label': 'POSITIVE', 'score': 0.5921093821525574}]\n",
      "Dow Jones Stocks: Nvidia Rebounds, Apple Rallies To Key Level; Amazon Hits New High [{'label': 'POSITIVE', 'score': 0.9715860486030579}]\n",
      "Apple Shares Jumps 4% on Bullish Analyst Target and AI Innovation Prospects [{'label': 'NEGATIVE', 'score': 0.9858294129371643}]\n",
      "China’s DeepSeek suffers cyberattack [{'label': 'NEGATIVE', 'score': 0.9992438554763794}]\n",
      "Apple Earnings: Should Investors Take a Bite? [{'label': 'NEGATIVE', 'score': 0.9850954413414001}]\n",
      "The Zacks Analyst Blog Highlights Apple, Dell Technologies, HP and Microsoft [{'label': 'POSITIVE', 'score': 0.9891019463539124}]\n",
      "\n",
      "AAPL_sentiment_avg: 0.4\n"
     ]
    }
   ],
   "source": [
    "\n",
    "titles = [article['content']['title'] for article in news]\n",
    "sentiment_lst = []\n",
    "\n",
    "# for every title apply the sentiment analysis\n",
    "for title in titles:\n",
    "    sentiment_result = analyze_sentiment(title)\n",
    "    # print result\n",
    "    print(title, sentiment_result)\n",
    "    # add the result to a list and convert the result to 1 if positive and 0 if negative\n",
    "    x = sentiment_result[0]['label']\n",
    "    sentiment_lst.append(1 if x == 'POSITIVE' else 0)\n",
    "\n",
    "# Calculate the average sentiment\n",
    "average_sentiment = np.array(sentiment_lst).sum() / len(sentiment_lst)\n",
    "\n",
    "# Create a dynamic variable name\n",
    "variable_name = f\"{ticker}_sentiment_avg\"\n",
    "globals()[variable_name] = average_sentiment\n",
    "\n",
    "# Print the result\n",
    "print()\n",
    "print(f\"{variable_name}: {average_sentiment}\")"
   ]
  }
 ],
 "metadata": {
  "kernelspec": {
   "display_name": "Python 3",
   "language": "python",
   "name": "python3"
  },
  "language_info": {
   "codemirror_mode": {
    "name": "ipython",
    "version": 3
   },
   "file_extension": ".py",
   "mimetype": "text/x-python",
   "name": "python",
   "nbconvert_exporter": "python",
   "pygments_lexer": "ipython3",
   "version": "3.11.9"
  }
 },
 "nbformat": 4,
 "nbformat_minor": 2
}
