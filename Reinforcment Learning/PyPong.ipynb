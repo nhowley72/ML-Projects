{
 "cells": [
  {
   "cell_type": "code",
   "execution_count": null,
   "metadata": {},
   "outputs": [
    {
     "name": "stdout",
     "output_type": "stream",
     "text": [
      "2.6.1\n"
     ]
    }
   ],
   "source": [
    "import pygame\n",
    "print(pygame.ver)  "
   ]
  },
  {
   "cell_type": "code",
   "execution_count": null,
   "metadata": {},
   "outputs": [],
   "source": [
    "import random\n"
   ]
  },
  {
   "cell_type": "markdown",
   "metadata": {},
   "source": [
    "Initialising"
   ]
  },
  {
   "cell_type": "code",
   "execution_count": null,
   "metadata": {},
   "outputs": [],
   "source": [
    "\n",
    "# Intiial Game settings \n",
    "SCREEN_WIDTH = 640\n",
    "SCREEN_HEIGHT = 480\n",
    "BALL_SIZE = 20\n",
    "PADDLE_WIDTH = 10\n",
    "PADDLE_HEIGHT = 100\n",
    "PADDLE_SPEED = 6\n",
    "BALL_SPEED_X = 5\n",
    "BALL_SPEED_Y = 5\n",
    "\n",
    "# init pygame\n",
    "pygame.init()\n",
    "screen = pygame.display.set_mode((SCREEN_WIDTH, SCREEN_HEIGHT))\n",
    "pygame.display.set_caption(\"Simple Pong\")\n",
    "\n",
    "# Colors\n",
    "WHITE = (255, 255, 255)\n",
    "BLACK = (0, 0, 0)\n",
    "\n",
    "# Game objects\n",
    "ball = pygame.Rect(SCREEN_WIDTH / 2 - BALL_SIZE / 2, SCREEN_HEIGHT / 2 - BALL_SIZE / 2, BALL_SIZE, BALL_SIZE)\n",
    "player_paddle = pygame.Rect(SCREEN_WIDTH - PADDLE_WIDTH - 10, SCREEN_HEIGHT / 2 - PADDLE_HEIGHT / 2, PADDLE_WIDTH, PADDLE_HEIGHT)\n",
    "opponent_paddle = pygame.Rect(10, SCREEN_HEIGHT / 2 - PADDLE_HEIGHT / 2, PADDLE_WIDTH, PADDLE_HEIGHT)\n",
    "\n",
    "# Ball direction\n",
    "ball_dx = BALL_SPEED_X * random.choice((-1, 1))\n",
    "ball_dy = BALL_SPEED_Y * random.choice((-1, 1))\n"
   ]
  },
  {
   "cell_type": "code",
   "execution_count": 18,
   "metadata": {},
   "outputs": [],
   "source": [
    "# Opponent follows the ball \n",
    "def opponent_ai():\n",
    "    if opponent_paddle.centery < ball.centery:\n",
    "        opponent_paddle.y += PADDLE_SPEED\n",
    "    elif opponent_paddle.centery > ball.centery:\n",
    "        opponent_paddle.y -= PADDLE_SPEED\n"
   ]
  },
  {
   "cell_type": "code",
   "execution_count": 19,
   "metadata": {},
   "outputs": [],
   "source": [
    "# Game reset\n",
    "def reset_ball():\n",
    "    global ball_dx, ball_dy\n",
    "    # center\n",
    "    ball.center = (SCREEN_WIDTH / 2, SCREEN_HEIGHT / 2)\n",
    "    ball_dx *= random.choice((-1, 1))\n",
    "    ball_dy *= random.choice((-1, 1))\n",
    "\n",
    "# Main game loop\n",
    "running = True\n",
    "while running:\n",
    "    for event in pygame.event.get():\n",
    "        if event.type == pygame.QUIT:\n",
    "            running = False\n",
    "\n",
    "    # Ball movement\n",
    "    ball.x += ball_dx\n",
    "    ball.y += ball_dy\n",
    "\n",
    "    # Ball collision with the top of the screen\n",
    "    if ball.top <= 0 or ball.bottom >= SCREEN_HEIGHT:\n",
    "        ball_dy *= -1\n",
    "\n",
    "    # Ball collision with paddles\n",
    "    if ball.colliderect(player_paddle) or ball.colliderect(opponent_paddle):\n",
    "        ball_dx *= -1\n",
    "\n",
    "    # Ball goes out of bounds\n",
    "    if ball.left <= 0 or ball.right >= SCREEN_WIDTH:\n",
    "        reset_ball()\n",
    "\n",
    "    # Player paddle movement\n",
    "    keys = pygame.key.get_pressed()\n",
    "    if keys[pygame.K_UP] and player_paddle.top > 0:\n",
    "        player_paddle.y -= PADDLE_SPEED\n",
    "    if keys[pygame.K_DOWN] and player_paddle.bottom < SCREEN_HEIGHT:\n",
    "        player_paddle.y += PADDLE_SPEED\n",
    "\n",
    "    # Opponent paddle movement\n",
    "    opponent_ai()\n",
    "\n",
    "    # Fill screen\n",
    "    screen.fill(BLACK)\n",
    "\n",
    "    # Draw paddles and ball\n",
    "    pygame.draw.rect(screen, WHITE, player_paddle)\n",
    "    pygame.draw.rect(screen, WHITE, opponent_paddle)\n",
    "    pygame.draw.ellipse(screen, WHITE, ball)\n",
    "\n",
    "    # Update display\n",
    "    pygame.display.flip()\n",
    "\n",
    "    # Frame rate\n",
    "    pygame.time.Clock().tick(60)\n",
    "\n",
    "# Quit game\n",
    "pygame.quit()\n"
   ]
  },
  {
   "cell_type": "code",
   "execution_count": null,
   "metadata": {},
   "outputs": [],
   "source": []
  }
 ],
 "metadata": {
  "kernelspec": {
   "display_name": "Python 3",
   "language": "python",
   "name": "python3"
  },
  "language_info": {
   "codemirror_mode": {
    "name": "ipython",
    "version": 3
   },
   "file_extension": ".py",
   "mimetype": "text/x-python",
   "name": "python",
   "nbconvert_exporter": "python",
   "pygments_lexer": "ipython3",
   "version": "3.11.9"
  }
 },
 "nbformat": 4,
 "nbformat_minor": 2
}
