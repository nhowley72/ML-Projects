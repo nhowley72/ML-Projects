{
 "cells": [
  {
   "cell_type": "code",
   "execution_count": 13,
   "metadata": {},
   "outputs": [
    {
     "name": "stdout",
     "output_type": "stream",
     "text": [
      "Epoch 1/5\n",
      "\u001b[1m1875/1875\u001b[0m \u001b[32m━━━━━━━━━━━━━━━━━━━━\u001b[0m\u001b[37m\u001b[0m \u001b[1m1s\u001b[0m 586us/step - accuracy: 0.7823 - loss: 0.6260 - val_accuracy: 0.8355 - val_loss: 0.4568\n",
      "Epoch 2/5\n",
      "\u001b[1m1875/1875\u001b[0m \u001b[32m━━━━━━━━━━━━━━━━━━━━\u001b[0m\u001b[37m\u001b[0m \u001b[1m1s\u001b[0m 526us/step - accuracy: 0.8594 - loss: 0.3891 - val_accuracy: 0.8513 - val_loss: 0.4006\n",
      "Epoch 3/5\n",
      "\u001b[1m1875/1875\u001b[0m \u001b[32m━━━━━━━━━━━━━━━━━━━━\u001b[0m\u001b[37m\u001b[0m \u001b[1m1s\u001b[0m 525us/step - accuracy: 0.8756 - loss: 0.3398 - val_accuracy: 0.8656 - val_loss: 0.3697\n",
      "Epoch 4/5\n",
      "\u001b[1m1875/1875\u001b[0m \u001b[32m━━━━━━━━━━━━━━━━━━━━\u001b[0m\u001b[37m\u001b[0m \u001b[1m1s\u001b[0m 545us/step - accuracy: 0.8836 - loss: 0.3158 - val_accuracy: 0.8697 - val_loss: 0.3611\n",
      "Epoch 5/5\n",
      "\u001b[1m1875/1875\u001b[0m \u001b[32m━━━━━━━━━━━━━━━━━━━━\u001b[0m\u001b[37m\u001b[0m \u001b[1m1s\u001b[0m 493us/step - accuracy: 0.8915 - loss: 0.2940 - val_accuracy: 0.8705 - val_loss: 0.3487\n",
      "313/313 - 0s - 257us/step - accuracy: 0.8705 - loss: 0.3487\n",
      "\n",
      "Test accuracy: 0.8705\n",
      "\u001b[1m313/313\u001b[0m \u001b[32m━━━━━━━━━━━━━━━━━━━━\u001b[0m\u001b[37m\u001b[0m \u001b[1m0s\u001b[0m 266us/step\n",
      "Image 1 - True label: 9, Predicted label: 9\n",
      "Image 2 - True label: 2, Predicted label: 2\n",
      "Image 3 - True label: 1, Predicted label: 1\n",
      "Image 4 - True label: 1, Predicted label: 1\n",
      "Image 5 - True label: 6, Predicted label: 6\n"
     ]
    }
   ],
   "source": [
    "# Importing TensorFlow and other libraries\n",
    "import tensorflow as tf\n",
    "from tensorflow.keras import layers, models\n",
    "import ssl\n",
    "\n",
    "# Bypass SSL verification if needed (uncomment the following line if necessary)\n",
    "# ssl._create_default_https_context = ssl._create_unverified_context\n",
    "\n",
    "# Load the Fashion MNIST dataset\n",
    "(x_train, y_train), (x_test, y_test) = tf.keras.datasets.fashion_mnist.load_data()\n",
    "\n",
    "# Normalize the images to a 0-1 range\n",
    "x_train, x_test = x_train / 255.0, x_test / 255.0\n",
    "\n",
    "# Building a simple neural network model\n",
    "model = models.Sequential([\n",
    "    layers.Flatten(input_shape=(28, 28)),   # Flatten the 28x28 images into 1D vectors\n",
    "    layers.Dense(128, activation='relu'),   # First hidden layer with 128 neurons and ReLU activation\n",
    "    layers.Dense(10, activation='softmax')  # Output layer with 10 neurons (one for each class) and softmax activation\n",
    "])\n",
    "\n",
    "# Compile the model\n",
    "model.compile(optimizer='adam',\n",
    "              loss='sparse_categorical_crossentropy',\n",
    "              metrics=['accuracy'])\n",
    "\n",
    "# Train the model\n",
    "model.fit(x_train, y_train, epochs=5, validation_data=(x_test, y_test))\n",
    "\n",
    "# Evaluate the model\n",
    "test_loss, test_accuracy = model.evaluate(x_test, y_test, verbose=2)\n",
    "print(f\"\\nTest accuracy: {test_accuracy:.4f}\")\n",
    "\n",
    "# Making predictions (optional)\n",
    "predictions = model.predict(x_test)\n",
    "\n",
    "# Displaying predictions for the first 5 test images\n",
    "for i in range(5):\n",
    "    print(f\"Image {i+1} - True label: {y_test[i]}, Predicted label: {tf.argmax(predictions[i]).numpy()}\")\n"
   ]
  }
 ],
 "metadata": {
  "kernelspec": {
   "display_name": "Python 3",
   "language": "python",
   "name": "python3"
  },
  "language_info": {
   "codemirror_mode": {
    "name": "ipython",
    "version": 3
   },
   "file_extension": ".py",
   "mimetype": "text/x-python",
   "name": "python",
   "nbconvert_exporter": "python",
   "pygments_lexer": "ipython3",
   "version": "3.11.9"
  }
 },
 "nbformat": 4,
 "nbformat_minor": 2
}
